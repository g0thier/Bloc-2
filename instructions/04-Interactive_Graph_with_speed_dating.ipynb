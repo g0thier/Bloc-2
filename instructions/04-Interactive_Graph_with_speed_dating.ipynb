{
 "cells": [
  {
   "cell_type": "markdown",
   "metadata": {},
   "source": [
    "# Speed Dating - Part IV"
   ]
  },
  {
   "cell_type": "markdown",
   "metadata": {},
   "source": [
    "Let's finalize our project by adding some interactivity to it ! Try using Plotly to make at least one interactive graph.\n",
    "\n",
    "In the end of the afternoon, some of you will present their visualizations in front of the class. Your teacher will give you detail about the organization. \n",
    "\n",
    "The aim is to share your findings with your classmates and practice your presentation skills : don't hesitate to make it dynamic and fun ! \n",
    "\n",
    "To finish, if you'd like to see many code examples and EDAs of this dataset, you can visit [this page](https://www.kaggle.com/annavictoria/speed-dating-experiment/kernels)"
   ]
  },
  {
   "cell_type": "code",
   "execution_count": null,
   "metadata": {},
   "outputs": [],
   "source": []
  }
 ],
 "metadata": {
  "language_info": {
   "codemirror_mode": {
    "name": "ipython",
    "version": 3
   },
   "file_extension": ".py",
   "mimetype": "text/x-python",
   "name": "python",
   "nbconvert_exporter": "python",
   "pygments_lexer": "ipython3",
   "version": 3
  },
  "orig_nbformat": 2
 },
 "nbformat": 4,
 "nbformat_minor": 2
}