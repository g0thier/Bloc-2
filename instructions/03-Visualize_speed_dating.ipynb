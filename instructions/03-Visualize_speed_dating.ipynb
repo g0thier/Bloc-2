{
 "cells": [
  {
   "cell_type": "markdown",
   "metadata": {},
   "source": [
    "# Speed Dating - Part II"
   ]
  },
  {
   "cell_type": "markdown",
   "metadata": {},
   "source": [
    "Continue exploring the Speed Dating dataset. You can use Seaborn and/or Matplotlib in case you want to master the rendering of the visualizations : for example, try to superimpose different plots, change the color palettes, add some texts, etc,...\n",
    "\n",
    "One thing to remember : in EDA, there's not one only way to highlight relevant information ! And there are choices to be made about the aspects you'd like to explore in this dataset, so don't hesitate to be creative :-)"
   ]
  },
  {
   "cell_type": "code",
   "execution_count": null,
   "metadata": {},
   "outputs": [],
   "source": []
  }
 ],
 "metadata": {
  "language_info": {
   "codemirror_mode": {
    "name": "ipython",
    "version": 3
   },
   "file_extension": ".py",
   "mimetype": "text/x-python",
   "name": "python",
   "nbconvert_exporter": "python",
   "pygments_lexer": "ipython3",
   "version": 3
  },
  "orig_nbformat": 2
 },
 "nbformat": 4,
 "nbformat_minor": 2
}