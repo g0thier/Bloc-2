{
 "cells": [
  {
   "cell_type": "markdown",
   "metadata": {},
   "source": [
    "# Challenge description : What is the secret of love.\n",
    "\n",
    "after some visualisations and exploration of this dataset. We can hypothesize on the facts will influence the obtaining of a **second date**.\n",
    "\n",
    "## Before the date :\n",
    "### General informations :\n",
    "* Don't matter of the origin, age or the attribut of your futur partner.\n",
    "* The lonely thing will influence the date is your place : the first or the last person you will meet.\n",
    "\n",
    "### Looking for :\n",
    "* Peoples come to this event with the view to have a fun night out.\n",
    "* They go out weekly and try to get a date perhaps 1 ou 2 a month.\n"
   ]
  },
  {
   "cell_type": "markdown",
   "metadata": {},
   "source": [
    "## THE Date :\n",
    "### Trendings topics : \n",
    "Some trendings topics rising to the surface, this catchy topics are :\n",
    "* Dining (all between 7 and 10) \n",
    "* Clubbing (big score for both) \n",
    "* Reading (the 8 and 8/10 things) \n",
    "* Movie (more spread out for mens but a hit) \n",
    "* Shopping (more spread out for mens but a hit too)\n",
    "\n",
    "### About your date \n",
    "* Attractive, sincere, intelligent (Peak at 8/10)\n",
    "* Fun and Ambitious is differents (Male Peak at 8 but womens are less principeled on this point)\n",
    "* Both can admit different hobbies\n",
    "\n",
    "### Feeling people :\n",
    "* Both mesure themself with the same mean.\n",
    "* Womens have less belief in themself (if you are a woman don't be pessimistic)\n",
    "* They like this person, but not overlove it (Peak at 8/10)"
   ]
  },
  {
   "cell_type": "markdown",
   "metadata": {},
   "source": [
    "## After the date :\n",
    "Because, for both of parners we have same analitics :\n",
    "\n",
    "    If you think to One person and you think this One person think to you. GO for it! "
   ]
  }
 ],
 "metadata": {
  "kernelspec": {
   "display_name": "Python 3.9.5 64-bit",
   "language": "python",
   "name": "python3"
  },
  "language_info": {
   "name": "python",
   "version": "3.9.5"
  },
  "orig_nbformat": 4,
  "vscode": {
   "interpreter": {
    "hash": "7812ea015bdcee6f23a998adcdd2ef97c151c0c241b7b7070987d9313e41299d"
   }
  }
 },
 "nbformat": 4,
 "nbformat_minor": 2
}
